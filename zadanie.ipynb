{
 "cells": [
  {
   "cell_type": "code",
   "execution_count": 1,
   "metadata": {},
   "outputs": [
    {
     "name": "stderr",
     "output_type": "stream",
     "text": [
      "/anaconda3/lib/python3.7/site-packages/scipy/signal/_arraytools.py:45: FutureWarning: Using a non-tuple sequence for multidimensional indexing is deprecated; use `arr[tuple(seq)]` instead of `arr[seq]`. In the future this will be interpreted as an array index, `arr[np.array(seq)]`, which will result either in an error or a different result.\n",
      "  b = a[a_slice]\n"
     ]
    }
   ],
   "source": [
    "import numpy as np\n",
    "import matplotlib.pyplot as plt\n",
    "import pandas as pd\n",
    "import aseegg as ag\n",
    "\n",
    "dane = pd.read_csv(\"dane.csv\", delimiter=';', engine='python')\n",
    "mojeDane = dane['Sub08']\n",
    "# plt.plot(mojeDane)\n",
    "# plt.xlabel('Czas [s]')\n",
    "# plt.ylabel('Amplituda [-]')\n",
    "# plt.show()\n",
    "\n",
    "bez_pradu = ag.pasmowozaporowy(mojeDane, 256, 49, 51)\n",
    "# plt.plot(bez_pradu)\n",
    "# plt.xlabel('Czas [s]')\n",
    "# plt.ylabel('Amplituda [-]')\n",
    "# plt.show()\n",
    "\n",
    "bez_szumu = ag.gornoprzepustowy(bez_pradu, 256, 4)\n",
    "# plt.plot(bez_szumu)\n",
    "# plt.xlabel('Czas [s]')\n",
    "# plt.ylabel('Amplituda [-]')\n",
    "# plt.show()\n",
    "\n",
    "# ag.spektrogram(bez_szumu, 256)\n",
    "\n",
    "# ag.rysujFFT(bez_szumu[0:6*256]) #bez bodzca\n",
    "# ag.rysujFFT(bez_szumu[6*256:21*256]) #z bodzcem\n"
   ]
  },
  {
   "cell_type": "code",
   "execution_count": null,
   "metadata": {},
   "outputs": [],
   "source": []
  }
 ],
 "metadata": {
  "kernelspec": {
   "display_name": "Python 3",
   "language": "python",
   "name": "python3"
  },
  "language_info": {
   "codemirror_mode": {
    "name": "ipython",
    "version": 3
   },
   "file_extension": ".py",
   "mimetype": "text/x-python",
   "name": "python",
   "nbconvert_exporter": "python",
   "pygments_lexer": "ipython3",
   "version": "3.7.0"
  }
 },
 "nbformat": 4,
 "nbformat_minor": 2
}
